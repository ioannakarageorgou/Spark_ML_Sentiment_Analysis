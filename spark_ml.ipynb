{
 "cells": [
  {
   "cell_type": "code",
   "execution_count": 1,
   "metadata": {},
   "outputs": [],
   "source": [
    "from pyspark import SparkConf, SparkContext\n",
    "from pyspark.sql import SQLContext\n",
    "from pyspark.ml.feature import StopWordsRemover\n",
    "\n",
    "from nltk.corpus import stopwords\n",
    "import numpy as np\n",
    "import pandas as pd\n",
    "\n",
    "from pyspark.ml.classification import NaiveBayes, LogisticRegression, DecisionTreeClassifier\n",
    "import string\n",
    "from pyspark.ml.feature import HashingTF, IDF, Word2Vec\n",
    "from pyspark.mllib.linalg import Vectors\n",
    "import timeit\n",
    "import sys"
   ]
  },
  {
   "cell_type": "code",
   "execution_count": 2,
   "metadata": {},
   "outputs": [],
   "source": [
    "def naive_bayes_classifier(training_df, testing_df):\n",
    "    print(\"\\nNaive Bayes classifier\\n\")\n",
    "    \n",
    "    nb = NaiveBayes()\n",
    "    start = timeit.default_timer()\n",
    "    model = nb.fit(training_df)\n",
    "    stop = timeit.default_timer()\n",
    "    \n",
    "    print('NB Training Time: ', stop - start)  \n",
    "    return model.transform(testing_df).select([\"label\", \"words\", \"prediction\"])\n",
    "\n",
    "\n",
    "def logistic_regression_classifier(training_df, testing_df):\n",
    "    print(\"\\nLogistic Regression classifier\\n\")\n",
    "    \n",
    "    lor = LogisticRegression(regParam=0.01)\n",
    "    start = timeit.default_timer()\n",
    "    model = lor.fit(training_df)\n",
    "    stop = timeit.default_timer()\n",
    "    \n",
    "    print('LR Training Time: ', stop - start)  \n",
    "    return model.transform(testing_df).select([\"label\", \"words\", \"prediction\"])\n",
    "\n",
    "\n",
    "def calculate_accuracy(result_df):\n",
    "    return 1.0 * result_df.filter(result_df.label == result_df.prediction).count() / result_df.count()\n",
    "\n",
    "\n",
    "def generate_confusion_matrix(result_df):\n",
    "    true_positives = result_df.filter((result_df.label == 1.0) & (result_df.prediction == 1.0)).count()\n",
    "    true_negatives = result_df.filter((result_df.label == 0.0) & (result_df.prediction == 0.0)).count()\n",
    "    false_positives = result_df.filter((result_df.label == 0.0) & (result_df.prediction == 1.0)).count()\n",
    "    false_negatives = result_df.filter((result_df.label == 1.0) & (result_df.prediction == 0.0)).count()\n",
    "\n",
    "    matrix = {\"Positive\": pd.Series([true_positives, false_positives], index=[\"Positive\", \"Negative\"]),\n",
    "              \"Negative\": pd.Series([false_negatives, true_negatives], index=[\"Positive\", \"Negative\"])}\n",
    "\n",
    "    df = pd.DataFrame(matrix)\n",
    "    df.columns.name = \"Actual / Predicted\"\n",
    "    return df\n",
    "\n",
    "\n",
    "def remove_punctuation(sentence):\n",
    "    punctuations = list(string.punctuation)\n",
    "    extra_punctuations = ['.', '``', '...', '\\'s', '--', '-', 'n\\'t', '_', '–']\n",
    "    punctuations += extra_punctuations\n",
    "    filtered = [w for w in sentence.lower() if w not in punctuations]\n",
    "    return (\"\".join(filtered)).split()\n",
    "\n",
    "\n",
    "def tf_idf(data_rdd):\n",
    "    data_rdd_df = data_rdd.toDF()\n",
    "    hashing_tf = HashingTF(inputCol=\"words\", outputCol=\"tf_features\")\n",
    "    tf_data = hashing_tf.transform(data_rdd_df)\n",
    "    idf_data = IDF(inputCol=\"tf_features\", outputCol=\"features\").fit(tf_data)\n",
    "    tf_idf_data = idf_data.transform(tf_data)\n",
    "    return tf_idf_data.select([\"label\", \"words\", \"features\"])\n",
    "\n",
    "\n",
    "def preprocessing(file):\n",
    "    data = sc.textFile(file)\n",
    "    col_rdd = data.map(lambda x: (x.split('\\t')[0], x[-1]))\n",
    "    punctuation_removed_rdd = col_rdd.map(lambda x: (remove_punctuation(x[0]), float(x[1])))\n",
    "    data_df = sqlContext.createDataFrame(punctuation_removed_rdd, [\"text\", \"label\"])    \n",
    "    remover = StopWordsRemover(inputCol=\"text\", outputCol=\"words\", stopWords=stopwords.words('english'))\n",
    "    a = remover.transform(data_df).select([\"label\", \"words\"])\n",
    "    return a\n",
    "\n",
    "\n",
    "def show_evaluation_stats(predicted_df):\n",
    "    accuracy = calculate_accuracy(predicted_df)\n",
    "    print(\"Model Accuracy: {}\".format(round(accuracy*100, 2)))\n",
    "    \n",
    "    confusion_table = generate_confusion_matrix(predicted_df)\n",
    "    print(\"\\nConfusion Matrix:\")\n",
    "    print(confusion_table)    "
   ]
  },
  {
   "cell_type": "code",
   "execution_count": 4,
   "metadata": {},
   "outputs": [],
   "source": [
    "if __name__ == \"__main__\":\n",
    "    conf = SparkConf()\n",
    "    sc = SparkContext.getOrCreate(conf=conf)\n",
    "    sqlContext = SQLContext(sc)\n",
    "    \n",
    "    filtered_data_df = preprocessing(\"grtweetsdataset/grTweets.csv\")\n",
    "\n",
    "    training, test = filtered_data_df.rdd.randomSplit([0.7, 0.3], seed=0)\n",
    "\n",
    "    train_df = tf_idf(training)\n",
    "    test_df = tf_idf(test)"
   ]
  },
  {
   "cell_type": "code",
   "execution_count": 5,
   "metadata": {},
   "outputs": [
    {
     "name": "stdout",
     "output_type": "stream",
     "text": [
      "\n",
      "Naive Bayes classifier\n",
      "\n",
      "NB Training Time:  2.3180709469997964\n",
      "Model Accuracy: 80.6\n",
      "\n",
      "Confusion Matrix:\n",
      "Actual / Predicted  Positive  Negative\n",
      "Positive                 955       325\n",
      "Negative                 267      1504\n"
     ]
    }
   ],
   "source": [
    "nb_predicted_df = naive_bayes_classifier(train_df, test_df)\n",
    "show_evaluation_stats(nb_predicted_df)"
   ]
  },
  {
   "cell_type": "code",
   "execution_count": 6,
   "metadata": {},
   "outputs": [
    {
     "name": "stdout",
     "output_type": "stream",
     "text": [
      "\n",
      "Logistic Regression classifier\n",
      "\n",
      "LR Training Time:  6.076945770997554\n",
      "Model Accuracy: 81.51\n",
      "\n",
      "Confusion Matrix:\n",
      "Actual / Predicted  Positive  Negative\n",
      "Positive                 965       315\n",
      "Negative                 249      1522\n"
     ]
    }
   ],
   "source": [
    "lor_predicted_df = logistic_regression_classifier(train_df, test_df)\n",
    "show_evaluation_stats(lor_predicted_df)"
   ]
  }
 ],
 "metadata": {
  "kernelspec": {
   "display_name": "Python 3",
   "language": "python",
   "name": "python3"
  },
  "language_info": {
   "codemirror_mode": {
    "name": "ipython",
    "version": 3
   },
   "file_extension": ".py",
   "mimetype": "text/x-python",
   "name": "python",
   "nbconvert_exporter": "python",
   "pygments_lexer": "ipython3",
   "version": "3.8.8"
  }
 },
 "nbformat": 4,
 "nbformat_minor": 2
}
